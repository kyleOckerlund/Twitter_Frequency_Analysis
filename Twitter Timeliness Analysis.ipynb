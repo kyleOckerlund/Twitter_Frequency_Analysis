{
 "cells": [
  {
   "cell_type": "code",
   "execution_count": 1,
   "metadata": {
    "collapsed": false
   },
   "outputs": [],
   "source": [
    "import tweepy\n",
    "import csv\n",
    "import pandas as pd\n",
    "from dateutil import parser\n",
    "import math\n",
    "import matplotlib.pyplot as plt\n",
    "\n",
    "\n",
    "%matplotlib inline  \n",
    "\n",
    "consumer_key=\"Ya2L7REPwOolsSccQPbn1mTBK\"\n",
    "consumer_secret=\"g9mjVondN2AEl27BRMBPgJ27Z0t3TGuHfHzxYpKbXX1BFhEmSV\"\n",
    "access_token=\"4780433174-83OQjerZWJnLph4Vo4B5LAT2oyZa3KMyOrMVZMC\"\n",
    "access_token_secret=\"0lEV0ugWBUryFbyNEgoW1oD01MFk6ivBbbETfch4bodum\"\n",
    "\n",
    "auth = tweepy.OAuthHandler(consumer_key, consumer_secret)\n",
    "auth.set_access_token(access_token, access_token_secret)\n",
    "api = tweepy.API(auth,wait_on_rate_limit=True)"
   ]
  },
  {
   "cell_type": "code",
   "execution_count": 2,
   "metadata": {
    "collapsed": false
   },
   "outputs": [],
   "source": [
    "usaHockeyData = api.search(q=\"#usahockey\", count=100, lang=\"en\")\n",
    "\n",
    "ids = []\n",
    "\n",
    "for tweet in usaHockeyData:\n",
    "    ids.append(tweet.id)\n",
    "    \n",
    "lowestID = min(ids)"
   ]
  },
  {
   "cell_type": "code",
   "execution_count": 3,
   "metadata": {
    "collapsed": false,
    "scrolled": true
   },
   "outputs": [
    {
     "name": "stdout",
     "output_type": "stream",
     "text": [
      "0\n",
      "100\n",
      "200\n",
      "300\n",
      "400\n",
      "500\n",
      "600\n",
      "700\n",
      "800\n",
      "900\n",
      "1000\n",
      "1100\n",
      "1200\n",
      "1300\n",
      "1400\n",
      "1500\n",
      "1600\n",
      "1700\n",
      "1800\n",
      "1900\n",
      "2000\n",
      "2100\n",
      "2200\n",
      "2300\n",
      "2400\n",
      "2500\n",
      "2600\n",
      "2700\n",
      "2800\n",
      "2900\n",
      "3000\n",
      "3100\n",
      "3200\n",
      "3300\n",
      "3400\n",
      "3500\n",
      "3600\n",
      "3700\n",
      "3800\n",
      "3900\n",
      "4000\n",
      "4100\n",
      "4200\n",
      "4300\n",
      "4400\n",
      "4500\n",
      "4600\n",
      "4700\n",
      "4800\n",
      "4900\n",
      "5000\n",
      "5100\n",
      "5200\n",
      "5300\n",
      "5400\n",
      "5500\n",
      "5600\n",
      "5700\n",
      "5800\n",
      "5900\n",
      "6000\n",
      "6100\n",
      "6200\n",
      "6300\n",
      "6400\n",
      "6500\n",
      "6600\n",
      "6700\n",
      "6800\n",
      "6900\n",
      "7000\n",
      "7100\n",
      "7200\n",
      "7300\n",
      "7400\n",
      "7500\n",
      "7600\n",
      "7700\n",
      "7800\n",
      "7900\n",
      "8000\n",
      "8100\n",
      "8200\n",
      "8300\n",
      "8400\n",
      "8500\n",
      "8600\n",
      "8700\n",
      "8800\n",
      "8900\n",
      "9000\n",
      "9100\n",
      "9200\n",
      "9300\n",
      "9400\n",
      "9500\n",
      "9600\n",
      "9700\n",
      "9800\n",
      "9900\n",
      "10000\n",
      "10100\n",
      "10200\n",
      "10300\n",
      "10400\n",
      "10500\n",
      "10600\n",
      "10700\n",
      "10800\n",
      "10900\n",
      "11000\n",
      "11100\n",
      "11200\n",
      "11300\n",
      "11400\n",
      "11500\n",
      "11600\n",
      "11700\n",
      "11800\n",
      "11900\n",
      "12000\n",
      "12100\n",
      "12200\n",
      "12300\n",
      "12400\n",
      "12500\n",
      "12600\n",
      "12700\n",
      "12800\n",
      "12900\n",
      "13000\n",
      "13100\n",
      "13200\n",
      "13300\n",
      "13400\n",
      "13500\n",
      "13600\n",
      "13700\n",
      "13800\n",
      "13900\n",
      "14000\n",
      "14100\n",
      "14200\n",
      "14300\n",
      "14400\n",
      "14500\n",
      "14600\n",
      "14700\n",
      "14800\n",
      "14900\n",
      "5768\n"
     ]
    }
   ],
   "source": [
    "usaHockeyData = []\n",
    "tweetsToScrape = 15000\n",
    "for i in range(tweetsToScrape//100):\n",
    "    usaHockeyDataPage = api.search(q=\"#usahockey\", count=100, lang=\"en\", max_id=lowestID)\n",
    "    ids = []\n",
    "    for tweet in usaHockeyDataPage:\n",
    "        ids.append(tweet.id)\n",
    "        usaHockeyData.append(tweet)\n",
    "\n",
    "    if(len(ids) > 0):\n",
    "        lowestID = min(ids)\n",
    "        print(i * 100)\n",
    "    else:\n",
    "        print(\"Out of tweets!\")\n",
    "        i = tweetsToScrape * 2\n",
    "    \n",
    "print(len(usaHockeyData))"
   ]
  },
  {
   "cell_type": "code",
   "execution_count": 16,
   "metadata": {
    "collapsed": false
   },
   "outputs": [],
   "source": [
    "createdAt = []\n",
    "retweets = []\n",
    "ids = []\n",
    "favoriteCount = []\n",
    "\n",
    "for tweet in usaHockeyData:\n",
    "    if hasattr(tweet, 'retweeted_status'):\n",
    "        retweet_count = 0\n",
    "    else:\n",
    "        retweet_count = tweet.retweet_count\n",
    "    createdAt.append(tweet.created_at)\n",
    "    retweets.append(retweet_count)\n",
    "    ids.append(tweet.id)\n",
    "    favoriteCount.append(tweet.favorite_count)\n",
    "\n",
    "df = pd.DataFrame({'date': createdAt, 'id': ids, 'retweets': retweets, 'favorites': favoriteCount})"
   ]
  },
  {
   "cell_type": "code",
   "execution_count": 19,
   "metadata": {
    "collapsed": false
   },
   "outputs": [
    {
     "data": {
      "text/plain": [
       "<matplotlib.text.Text at 0x226f05fa9b0>"
      ]
     },
     "execution_count": 19,
     "metadata": {},
     "output_type": "execute_result"
    },
    {
     "data": {
      "image/png": "[encoded data removed]",
      "text/plain": [
       "<matplotlib.figure.Figure at 0x226f05827b8>"
      ]
     },
     "metadata": {},
     "output_type": "display_data"
    }
   ],
   "source": [
    "plt.plot(df['date'], df['favorites'])\n",
    "plt.xticks(rotation='vertical')\n",
    "plt.xlabel('Date of Tweet')\n",
    "plt.ylabel('Number of Likes as of 2/26/18') \n",
    "plt.title('#USAHockey: Like Count by date')"
   ]
  },
  {
   "cell_type": "code",
   "execution_count": null,
   "metadata": {
    "collapsed": true
   },
   "outputs": [],
   "source": []
  }
 ],
 "metadata": {
  "anaconda-cloud": {},
  "kernelspec": {
   "display_name": "Python [conda root]",
   "language": "python",
   "name": "conda-root-py"
  },
  "language_info": {
   "codemirror_mode": {
    "name": "ipython",
    "version": 3
   },
   "file_extension": ".py",
   "mimetype": "text/x-python",
   "name": "python",
   "nbconvert_exporter": "python",
   "pygments_lexer": "ipython3",
   "version": "3.5.2"
  }
 },
 "nbformat": 4,
 "nbformat_minor": 1
}
